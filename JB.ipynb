{
 "nbformat": 4,
 "nbformat_minor": 0,
 "metadata": {
  "colab": {
   "name": "JB.ipynb",
   "provenance": [],
   "collapsed_sections": []
  },
  "kernelspec": {
   "name": "python3",
   "language": "python",
   "display_name": "Python 3"
  }
 },
 "cells": [
  {
   "cell_type": "code",
   "execution_count": 42,
   "outputs": [],
   "source": [
    "import numpy as np\n",
    "import pandas as pd\n",
    "import matplotlib.pyplot as plt\n",
    "data = pd.read_csv('predict.csv')\n"
   ],
   "metadata": {
    "collapsed": false,
    "pycharm": {
     "name": "#%%\n"
    }
   }
  },
  {
   "cell_type": "code",
   "metadata": {
    "colab": {
     "base_uri": "https://localhost:8080/"
    },
    "id": "TirpsaEcdgeP",
    "outputId": "8f39ea24-5b20-4367-d849-60f0c8187f9a"
   },
   "source": [
    "data"
   ],
   "execution_count": 43,
   "outputs": [
    {
     "data": {
      "text/plain": "     recency  topic_rank  diversity  authors_mean_rank  authors_mean_hindex  \\\n0         16         1.0  -0.425436              500.0                  1.0   \n1          8         7.0  -0.571967              134.0                  1.0   \n2         15        19.0  -0.859644              235.0                  1.0   \n3          6         4.0  -1.054999             1124.0                  1.0   \n4         14         2.0  -0.476697              346.0                  1.0   \n..       ...         ...        ...                ...                  ...   \n474       25         6.0  -0.330948              528.0                  0.0   \n475        6        12.0  -1.493480             2145.0                  0.0   \n476       24        17.0  -1.466320              551.0                  0.0   \n477       24         6.0  -1.556737              551.0                  0.0   \n478       23         9.0  -0.283168              602.0                  0.0   \n\n     authors_mean_gindex  authors_mean_sociality  authors_mean_pagerank  \\\n0                    1.0                     6.0                    NaN   \n1                    1.0                     6.0                    NaN   \n2                    1.0                     5.0                    NaN   \n3                    1.0                    10.0                    NaN   \n4                    1.0                     2.0                    NaN   \n..                   ...                     ...                    ...   \n474                  0.0                     6.0                    NaN   \n475                  0.0                     1.0                    NaN   \n476                  0.0                     4.0                    NaN   \n477                  0.0                     0.0                    NaN   \n478                  0.0                     0.0                    NaN   \n\n     authors_mean_productivity  journal_pagerank  journal_rank  title_len  \\\n0                          NaN               NaN         101.0         66   \n1                          NaN               NaN          24.0         59   \n2                          NaN               NaN          49.0        169   \n3                          NaN               NaN         185.0        130   \n4                          NaN               NaN          72.0        100   \n..                         ...               ...           ...        ...   \n474                        NaN               NaN         140.0         62   \n475                        NaN               NaN         416.0         45   \n476                        NaN               NaN         146.0         84   \n477                        NaN               NaN         146.0         56   \n478                        NaN               NaN         155.0         90   \n\n     abstract_len  n_authors    c5  log_authors_mean_sociality  \n0            1653          7   1.0                    1.945910  \n1            1527          7  32.0                    1.945910  \n2            1554          6   5.0                    1.791759  \n3            2121         11   7.0                    2.397895  \n4             432          3   7.0                    1.098612  \n..            ...        ...   ...                         ...  \n474           645          7   0.0                    1.945910  \n475           714          2   0.0                    0.693147  \n476             0          5   0.0                    1.609438  \n477             0          1   0.0                    0.000000  \n478           476          1   0.0                    0.000000  \n\n[479 rows x 16 columns]",
      "text/html": "<div>\n<style scoped>\n    .dataframe tbody tr th:only-of-type {\n        vertical-align: middle;\n    }\n\n    .dataframe tbody tr th {\n        vertical-align: top;\n    }\n\n    .dataframe thead th {\n        text-align: right;\n    }\n</style>\n<table border=\"1\" class=\"dataframe\">\n  <thead>\n    <tr style=\"text-align: right;\">\n      <th></th>\n      <th>recency</th>\n      <th>topic_rank</th>\n      <th>diversity</th>\n      <th>authors_mean_rank</th>\n      <th>authors_mean_hindex</th>\n      <th>authors_mean_gindex</th>\n      <th>authors_mean_sociality</th>\n      <th>authors_mean_pagerank</th>\n      <th>authors_mean_productivity</th>\n      <th>journal_pagerank</th>\n      <th>journal_rank</th>\n      <th>title_len</th>\n      <th>abstract_len</th>\n      <th>n_authors</th>\n      <th>c5</th>\n      <th>log_authors_mean_sociality</th>\n    </tr>\n  </thead>\n  <tbody>\n    <tr>\n      <th>0</th>\n      <td>16</td>\n      <td>1.0</td>\n      <td>-0.425436</td>\n      <td>500.0</td>\n      <td>1.0</td>\n      <td>1.0</td>\n      <td>6.0</td>\n      <td>NaN</td>\n      <td>NaN</td>\n      <td>NaN</td>\n      <td>101.0</td>\n      <td>66</td>\n      <td>1653</td>\n      <td>7</td>\n      <td>1.0</td>\n      <td>1.945910</td>\n    </tr>\n    <tr>\n      <th>1</th>\n      <td>8</td>\n      <td>7.0</td>\n      <td>-0.571967</td>\n      <td>134.0</td>\n      <td>1.0</td>\n      <td>1.0</td>\n      <td>6.0</td>\n      <td>NaN</td>\n      <td>NaN</td>\n      <td>NaN</td>\n      <td>24.0</td>\n      <td>59</td>\n      <td>1527</td>\n      <td>7</td>\n      <td>32.0</td>\n      <td>1.945910</td>\n    </tr>\n    <tr>\n      <th>2</th>\n      <td>15</td>\n      <td>19.0</td>\n      <td>-0.859644</td>\n      <td>235.0</td>\n      <td>1.0</td>\n      <td>1.0</td>\n      <td>5.0</td>\n      <td>NaN</td>\n      <td>NaN</td>\n      <td>NaN</td>\n      <td>49.0</td>\n      <td>169</td>\n      <td>1554</td>\n      <td>6</td>\n      <td>5.0</td>\n      <td>1.791759</td>\n    </tr>\n    <tr>\n      <th>3</th>\n      <td>6</td>\n      <td>4.0</td>\n      <td>-1.054999</td>\n      <td>1124.0</td>\n      <td>1.0</td>\n      <td>1.0</td>\n      <td>10.0</td>\n      <td>NaN</td>\n      <td>NaN</td>\n      <td>NaN</td>\n      <td>185.0</td>\n      <td>130</td>\n      <td>2121</td>\n      <td>11</td>\n      <td>7.0</td>\n      <td>2.397895</td>\n    </tr>\n    <tr>\n      <th>4</th>\n      <td>14</td>\n      <td>2.0</td>\n      <td>-0.476697</td>\n      <td>346.0</td>\n      <td>1.0</td>\n      <td>1.0</td>\n      <td>2.0</td>\n      <td>NaN</td>\n      <td>NaN</td>\n      <td>NaN</td>\n      <td>72.0</td>\n      <td>100</td>\n      <td>432</td>\n      <td>3</td>\n      <td>7.0</td>\n      <td>1.098612</td>\n    </tr>\n    <tr>\n      <th>...</th>\n      <td>...</td>\n      <td>...</td>\n      <td>...</td>\n      <td>...</td>\n      <td>...</td>\n      <td>...</td>\n      <td>...</td>\n      <td>...</td>\n      <td>...</td>\n      <td>...</td>\n      <td>...</td>\n      <td>...</td>\n      <td>...</td>\n      <td>...</td>\n      <td>...</td>\n      <td>...</td>\n    </tr>\n    <tr>\n      <th>474</th>\n      <td>25</td>\n      <td>6.0</td>\n      <td>-0.330948</td>\n      <td>528.0</td>\n      <td>0.0</td>\n      <td>0.0</td>\n      <td>6.0</td>\n      <td>NaN</td>\n      <td>NaN</td>\n      <td>NaN</td>\n      <td>140.0</td>\n      <td>62</td>\n      <td>645</td>\n      <td>7</td>\n      <td>0.0</td>\n      <td>1.945910</td>\n    </tr>\n    <tr>\n      <th>475</th>\n      <td>6</td>\n      <td>12.0</td>\n      <td>-1.493480</td>\n      <td>2145.0</td>\n      <td>0.0</td>\n      <td>0.0</td>\n      <td>1.0</td>\n      <td>NaN</td>\n      <td>NaN</td>\n      <td>NaN</td>\n      <td>416.0</td>\n      <td>45</td>\n      <td>714</td>\n      <td>2</td>\n      <td>0.0</td>\n      <td>0.693147</td>\n    </tr>\n    <tr>\n      <th>476</th>\n      <td>24</td>\n      <td>17.0</td>\n      <td>-1.466320</td>\n      <td>551.0</td>\n      <td>0.0</td>\n      <td>0.0</td>\n      <td>4.0</td>\n      <td>NaN</td>\n      <td>NaN</td>\n      <td>NaN</td>\n      <td>146.0</td>\n      <td>84</td>\n      <td>0</td>\n      <td>5</td>\n      <td>0.0</td>\n      <td>1.609438</td>\n    </tr>\n    <tr>\n      <th>477</th>\n      <td>24</td>\n      <td>6.0</td>\n      <td>-1.556737</td>\n      <td>551.0</td>\n      <td>0.0</td>\n      <td>0.0</td>\n      <td>0.0</td>\n      <td>NaN</td>\n      <td>NaN</td>\n      <td>NaN</td>\n      <td>146.0</td>\n      <td>56</td>\n      <td>0</td>\n      <td>1</td>\n      <td>0.0</td>\n      <td>0.000000</td>\n    </tr>\n    <tr>\n      <th>478</th>\n      <td>23</td>\n      <td>9.0</td>\n      <td>-0.283168</td>\n      <td>602.0</td>\n      <td>0.0</td>\n      <td>0.0</td>\n      <td>0.0</td>\n      <td>NaN</td>\n      <td>NaN</td>\n      <td>NaN</td>\n      <td>155.0</td>\n      <td>90</td>\n      <td>476</td>\n      <td>1</td>\n      <td>0.0</td>\n      <td>0.000000</td>\n    </tr>\n  </tbody>\n</table>\n<p>479 rows × 16 columns</p>\n</div>"
     },
     "execution_count": 43,
     "metadata": {},
     "output_type": "execute_result"
    }
   ]
  },
  {
   "cell_type": "code",
   "metadata": {
    "colab": {
     "base_uri": "https://localhost:8080/"
    },
    "id": "ndtlsjYtdjTl",
    "outputId": "66e1fff6-9ea4-4e96-c31f-1ce0c61a847d"
   },
   "source": [
    "data.isnull().sum()"
   ],
   "execution_count": 44,
   "outputs": [
    {
     "data": {
      "text/plain": "recency                         0\ntopic_rank                      0\ndiversity                       0\nauthors_mean_rank               6\nauthors_mean_hindex             6\nauthors_mean_gindex             6\nauthors_mean_sociality          6\nauthors_mean_pagerank         479\nauthors_mean_productivity     479\njournal_pagerank              479\njournal_rank                   39\ntitle_len                       0\nabstract_len                    0\nn_authors                       0\nc5                              0\nlog_authors_mean_sociality      6\ndtype: int64"
     },
     "execution_count": 44,
     "metadata": {},
     "output_type": "execute_result"
    }
   ]
  },
  {
   "cell_type": "markdown",
   "metadata": {
    "id": "0kTHkQ-5fOFD"
   },
   "source": [
    "Видим, что в датасете у нас три пустых колонки, можно их удалить из датасета. Так же authors_mean_sociality и log_authors_mean_sociality являются зависимыми признаками, значит можно избавиться от одного из них"
   ]
  },
  {
   "cell_type": "code",
   "metadata": {
    "id": "NY3sj8OVfMva"
   },
   "source": [
    "data = data.drop(columns=['journal_pagerank','authors_mean_productivity','authors_mean_pagerank','log_authors_mean_sociality'])"
   ],
   "execution_count": 45,
   "outputs": []
  },
  {
   "cell_type": "markdown",
   "metadata": {
    "id": "Dxgi182lhIFo"
   },
   "source": [
    "Выведем список всех строк с NaN значением у признака/признаков"
   ]
  },
  {
   "cell_type": "code",
   "metadata": {
    "colab": {
     "base_uri": "https://localhost:8080/",
     "height": 1000
    },
    "id": "Xnqd0Pv1fiPY",
    "outputId": "8f800478-72b8-4495-d229-a3be005271d0"
   },
   "source": [
    "data[data.isna().any(axis = 1)]\n",
    "\n"
   ],
   "execution_count": 46,
   "outputs": [
    {
     "data": {
      "text/plain": "     recency  topic_rank  diversity  authors_mean_rank  authors_mean_hindex  \\\n8          5         3.0  -1.464084             1282.0                1.000   \n15        13        20.0  -0.178360              326.0                1.000   \n19        14        19.0  -0.647923             1015.0                1.000   \n22         8         2.0  -1.390480               94.0                1.000   \n23         5         3.0  -1.224150              219.0                1.000   \n56         7         6.0  -1.367137             1174.0                1.000   \n81         6        14.0  -0.296585             1469.0                1.000   \n85        21         4.0  -0.120934              106.0                1.000   \n97         5        12.0  -0.974201             1935.0                1.000   \n107        6         7.0  -0.066097             1628.0                1.000   \n109        9         3.0  -0.099415              379.0                1.000   \n142        8         2.0  -0.104002              630.0                1.000   \n154        9        14.0  -0.071078              333.0                1.000   \n175       10         7.0  -0.142626              607.0                1.000   \n190       16         6.0  -0.075675              224.0                1.000   \n198        7        14.0  -0.090506             1059.0                1.000   \n227        7         3.0  -0.164493             1775.0                1.000   \n230        6        19.0  -0.142626             1776.0                1.000   \n243       10        15.0  -1.531056              197.0                1.000   \n257        5        17.0  -0.080949              208.0                1.000   \n261        8         4.0  -0.752599             1219.0                1.000   \n278        9         7.0  -1.658970              949.0                1.000   \n279        6         3.0  -1.164230              589.0                1.000   \n290        5        15.0  -0.056685             1444.5                1.125   \n299        5        13.0  -0.106469             1150.0                1.000   \n308       12        19.0  -1.558446              118.0                1.000   \n313        7         3.0  -1.385588              621.0                1.000   \n321        6        20.0  -0.174664              458.0                1.000   \n331        5        18.0  -0.796707             1935.0                1.000   \n334        9         9.0  -1.112809              570.0                1.000   \n336        8         9.0  -0.199657              217.0                1.000   \n355       11        10.0  -0.824070              395.0                1.000   \n379        5         2.0  -0.414833              596.0                1.000   \n390       12        10.0  -0.706425             1267.0                1.000   \n393        9         5.0  -0.497538              949.0                1.000   \n397        7         2.0  -0.124345              468.0                1.000   \n399       13         5.0  -0.138085             1371.0                0.000   \n418       15        16.0  -1.247485                NaN                  NaN   \n422       22         5.0  -1.045666                NaN                  NaN   \n423       13        10.0  -2.090505                NaN                  NaN   \n432        6        13.0  -0.233729             2145.0                0.000   \n433        5        16.0  -0.806385             2336.0                0.000   \n451       25        17.0  -0.317449                NaN                  NaN   \n458       17        15.0  -2.090505                NaN                  NaN   \n464        6        15.0  -0.796709                NaN                  NaN   \n\n     authors_mean_gindex  authors_mean_sociality  journal_rank  title_len  \\\n8                  1.000                  3.0000           NaN         44   \n15                 1.000                  2.0000           NaN        169   \n19                 1.000                  0.0000           NaN         32   \n22                 1.000                  8.0000           NaN        107   \n23                 1.000                  2.0000           NaN        101   \n56                 1.000                  2.0000           NaN        165   \n81                 1.000                  7.0000           NaN        108   \n85                 1.000                 10.0000           NaN         91   \n97                 1.000                  5.0000           NaN         64   \n107                1.000                  3.0000           NaN        161   \n109                1.000                  1.0000           NaN        108   \n142                1.000                  3.0000           NaN         65   \n154                1.000                  5.0000           NaN        117   \n175                1.000                  8.0000           NaN         99   \n190                1.000                  6.0000           NaN        112   \n198                1.000                  1.0000           NaN         96   \n227                1.000                  5.0000           NaN         93   \n230                1.000                  4.0000           NaN        114   \n243                1.000                  8.0000           NaN         73   \n257                1.000                  4.0000           NaN        111   \n261                1.000                  5.0000           NaN         79   \n278                1.000                  1.0000           NaN         70   \n279                1.000                 13.0000           NaN        162   \n290                1.125                  6.8125           NaN        118   \n299                1.000                  0.0000           NaN         54   \n308                1.000                  8.0000           NaN        150   \n313                1.000                  4.0000           NaN         89   \n321                1.000                  5.0000           NaN         86   \n331                1.000                  4.0000           NaN         85   \n334                1.000                  3.0000           NaN         84   \n336                1.000                  1.0000           NaN         86   \n355                1.000                  0.0000           NaN         46   \n379                1.000                  7.0000           NaN        105   \n390                1.000                  0.0000           NaN        108   \n393                1.000                  5.0000           NaN        125   \n397                1.000                  4.0000           NaN        112   \n399                0.000                  1.0000           NaN         48   \n418                  NaN                     NaN         270.0         46   \n422                  NaN                     NaN         165.0        119   \n423                  NaN                     NaN         310.0         51   \n432                0.000                  2.0000           NaN        109   \n433                0.000                  1.0000           NaN         59   \n451                  NaN                     NaN         140.0         64   \n458                  NaN                     NaN         236.0         38   \n464                  NaN                     NaN         416.0         22   \n\n     abstract_len  n_authors    c5  \n8            1191          4   8.0  \n15           1323          3   9.0  \n19            275          1   2.0  \n22           1987          9  46.0  \n23           1147          3  49.0  \n56           1722          3   5.0  \n81           2407          8   5.0  \n85           1350         11   7.0  \n97            341          6   2.0  \n107          2409          4   3.0  \n109          1648          2  13.0  \n142          1791          4   7.0  \n154          2387          6  19.0  \n175          1169          9  11.0  \n190          2128          7   7.0  \n198          1640          2   9.0  \n227          1389          6   1.0  \n230          1112          5   2.0  \n243          2113          9  18.0  \n257          2491          5  50.0  \n261           661          6   3.0  \n278           149          2   2.0  \n279          2326         14  16.0  \n290          2355          8   5.0  \n299          1629          1  10.0  \n308          1899          9  12.0  \n313          1429          5  13.0  \n321          1379          6  24.0  \n331          1065          5   2.0  \n334          2522          4   7.0  \n336           575          2  32.0  \n355           844          1   5.0  \n379          1959          8  21.0  \n390          1900          1   1.0  \n393          2187          6   1.0  \n397          1223          5  19.0  \n399          1241          2   0.0  \n418             0          1   0.0  \n422             0          1   0.0  \n423             0          1   0.0  \n432          1097          3   0.0  \n433          3655          2   0.0  \n451           657          1   0.0  \n458             0          1   0.0  \n464           218          1   0.0  ",
      "text/html": "<div>\n<style scoped>\n    .dataframe tbody tr th:only-of-type {\n        vertical-align: middle;\n    }\n\n    .dataframe tbody tr th {\n        vertical-align: top;\n    }\n\n    .dataframe thead th {\n        text-align: right;\n    }\n</style>\n<table border=\"1\" class=\"dataframe\">\n  <thead>\n    <tr style=\"text-align: right;\">\n      <th></th>\n      <th>recency</th>\n      <th>topic_rank</th>\n      <th>diversity</th>\n      <th>authors_mean_rank</th>\n      <th>authors_mean_hindex</th>\n      <th>authors_mean_gindex</th>\n      <th>authors_mean_sociality</th>\n      <th>journal_rank</th>\n      <th>title_len</th>\n      <th>abstract_len</th>\n      <th>n_authors</th>\n      <th>c5</th>\n    </tr>\n  </thead>\n  <tbody>\n    <tr>\n      <th>8</th>\n      <td>5</td>\n      <td>3.0</td>\n      <td>-1.464084</td>\n      <td>1282.0</td>\n      <td>1.000</td>\n      <td>1.000</td>\n      <td>3.0000</td>\n      <td>NaN</td>\n      <td>44</td>\n      <td>1191</td>\n      <td>4</td>\n      <td>8.0</td>\n    </tr>\n    <tr>\n      <th>15</th>\n      <td>13</td>\n      <td>20.0</td>\n      <td>-0.178360</td>\n      <td>326.0</td>\n      <td>1.000</td>\n      <td>1.000</td>\n      <td>2.0000</td>\n      <td>NaN</td>\n      <td>169</td>\n      <td>1323</td>\n      <td>3</td>\n      <td>9.0</td>\n    </tr>\n    <tr>\n      <th>19</th>\n      <td>14</td>\n      <td>19.0</td>\n      <td>-0.647923</td>\n      <td>1015.0</td>\n      <td>1.000</td>\n      <td>1.000</td>\n      <td>0.0000</td>\n      <td>NaN</td>\n      <td>32</td>\n      <td>275</td>\n      <td>1</td>\n      <td>2.0</td>\n    </tr>\n    <tr>\n      <th>22</th>\n      <td>8</td>\n      <td>2.0</td>\n      <td>-1.390480</td>\n      <td>94.0</td>\n      <td>1.000</td>\n      <td>1.000</td>\n      <td>8.0000</td>\n      <td>NaN</td>\n      <td>107</td>\n      <td>1987</td>\n      <td>9</td>\n      <td>46.0</td>\n    </tr>\n    <tr>\n      <th>23</th>\n      <td>5</td>\n      <td>3.0</td>\n      <td>-1.224150</td>\n      <td>219.0</td>\n      <td>1.000</td>\n      <td>1.000</td>\n      <td>2.0000</td>\n      <td>NaN</td>\n      <td>101</td>\n      <td>1147</td>\n      <td>3</td>\n      <td>49.0</td>\n    </tr>\n    <tr>\n      <th>56</th>\n      <td>7</td>\n      <td>6.0</td>\n      <td>-1.367137</td>\n      <td>1174.0</td>\n      <td>1.000</td>\n      <td>1.000</td>\n      <td>2.0000</td>\n      <td>NaN</td>\n      <td>165</td>\n      <td>1722</td>\n      <td>3</td>\n      <td>5.0</td>\n    </tr>\n    <tr>\n      <th>81</th>\n      <td>6</td>\n      <td>14.0</td>\n      <td>-0.296585</td>\n      <td>1469.0</td>\n      <td>1.000</td>\n      <td>1.000</td>\n      <td>7.0000</td>\n      <td>NaN</td>\n      <td>108</td>\n      <td>2407</td>\n      <td>8</td>\n      <td>5.0</td>\n    </tr>\n    <tr>\n      <th>85</th>\n      <td>21</td>\n      <td>4.0</td>\n      <td>-0.120934</td>\n      <td>106.0</td>\n      <td>1.000</td>\n      <td>1.000</td>\n      <td>10.0000</td>\n      <td>NaN</td>\n      <td>91</td>\n      <td>1350</td>\n      <td>11</td>\n      <td>7.0</td>\n    </tr>\n    <tr>\n      <th>97</th>\n      <td>5</td>\n      <td>12.0</td>\n      <td>-0.974201</td>\n      <td>1935.0</td>\n      <td>1.000</td>\n      <td>1.000</td>\n      <td>5.0000</td>\n      <td>NaN</td>\n      <td>64</td>\n      <td>341</td>\n      <td>6</td>\n      <td>2.0</td>\n    </tr>\n    <tr>\n      <th>107</th>\n      <td>6</td>\n      <td>7.0</td>\n      <td>-0.066097</td>\n      <td>1628.0</td>\n      <td>1.000</td>\n      <td>1.000</td>\n      <td>3.0000</td>\n      <td>NaN</td>\n      <td>161</td>\n      <td>2409</td>\n      <td>4</td>\n      <td>3.0</td>\n    </tr>\n    <tr>\n      <th>109</th>\n      <td>9</td>\n      <td>3.0</td>\n      <td>-0.099415</td>\n      <td>379.0</td>\n      <td>1.000</td>\n      <td>1.000</td>\n      <td>1.0000</td>\n      <td>NaN</td>\n      <td>108</td>\n      <td>1648</td>\n      <td>2</td>\n      <td>13.0</td>\n    </tr>\n    <tr>\n      <th>142</th>\n      <td>8</td>\n      <td>2.0</td>\n      <td>-0.104002</td>\n      <td>630.0</td>\n      <td>1.000</td>\n      <td>1.000</td>\n      <td>3.0000</td>\n      <td>NaN</td>\n      <td>65</td>\n      <td>1791</td>\n      <td>4</td>\n      <td>7.0</td>\n    </tr>\n    <tr>\n      <th>154</th>\n      <td>9</td>\n      <td>14.0</td>\n      <td>-0.071078</td>\n      <td>333.0</td>\n      <td>1.000</td>\n      <td>1.000</td>\n      <td>5.0000</td>\n      <td>NaN</td>\n      <td>117</td>\n      <td>2387</td>\n      <td>6</td>\n      <td>19.0</td>\n    </tr>\n    <tr>\n      <th>175</th>\n      <td>10</td>\n      <td>7.0</td>\n      <td>-0.142626</td>\n      <td>607.0</td>\n      <td>1.000</td>\n      <td>1.000</td>\n      <td>8.0000</td>\n      <td>NaN</td>\n      <td>99</td>\n      <td>1169</td>\n      <td>9</td>\n      <td>11.0</td>\n    </tr>\n    <tr>\n      <th>190</th>\n      <td>16</td>\n      <td>6.0</td>\n      <td>-0.075675</td>\n      <td>224.0</td>\n      <td>1.000</td>\n      <td>1.000</td>\n      <td>6.0000</td>\n      <td>NaN</td>\n      <td>112</td>\n      <td>2128</td>\n      <td>7</td>\n      <td>7.0</td>\n    </tr>\n    <tr>\n      <th>198</th>\n      <td>7</td>\n      <td>14.0</td>\n      <td>-0.090506</td>\n      <td>1059.0</td>\n      <td>1.000</td>\n      <td>1.000</td>\n      <td>1.0000</td>\n      <td>NaN</td>\n      <td>96</td>\n      <td>1640</td>\n      <td>2</td>\n      <td>9.0</td>\n    </tr>\n    <tr>\n      <th>227</th>\n      <td>7</td>\n      <td>3.0</td>\n      <td>-0.164493</td>\n      <td>1775.0</td>\n      <td>1.000</td>\n      <td>1.000</td>\n      <td>5.0000</td>\n      <td>NaN</td>\n      <td>93</td>\n      <td>1389</td>\n      <td>6</td>\n      <td>1.0</td>\n    </tr>\n    <tr>\n      <th>230</th>\n      <td>6</td>\n      <td>19.0</td>\n      <td>-0.142626</td>\n      <td>1776.0</td>\n      <td>1.000</td>\n      <td>1.000</td>\n      <td>4.0000</td>\n      <td>NaN</td>\n      <td>114</td>\n      <td>1112</td>\n      <td>5</td>\n      <td>2.0</td>\n    </tr>\n    <tr>\n      <th>243</th>\n      <td>10</td>\n      <td>15.0</td>\n      <td>-1.531056</td>\n      <td>197.0</td>\n      <td>1.000</td>\n      <td>1.000</td>\n      <td>8.0000</td>\n      <td>NaN</td>\n      <td>73</td>\n      <td>2113</td>\n      <td>9</td>\n      <td>18.0</td>\n    </tr>\n    <tr>\n      <th>257</th>\n      <td>5</td>\n      <td>17.0</td>\n      <td>-0.080949</td>\n      <td>208.0</td>\n      <td>1.000</td>\n      <td>1.000</td>\n      <td>4.0000</td>\n      <td>NaN</td>\n      <td>111</td>\n      <td>2491</td>\n      <td>5</td>\n      <td>50.0</td>\n    </tr>\n    <tr>\n      <th>261</th>\n      <td>8</td>\n      <td>4.0</td>\n      <td>-0.752599</td>\n      <td>1219.0</td>\n      <td>1.000</td>\n      <td>1.000</td>\n      <td>5.0000</td>\n      <td>NaN</td>\n      <td>79</td>\n      <td>661</td>\n      <td>6</td>\n      <td>3.0</td>\n    </tr>\n    <tr>\n      <th>278</th>\n      <td>9</td>\n      <td>7.0</td>\n      <td>-1.658970</td>\n      <td>949.0</td>\n      <td>1.000</td>\n      <td>1.000</td>\n      <td>1.0000</td>\n      <td>NaN</td>\n      <td>70</td>\n      <td>149</td>\n      <td>2</td>\n      <td>2.0</td>\n    </tr>\n    <tr>\n      <th>279</th>\n      <td>6</td>\n      <td>3.0</td>\n      <td>-1.164230</td>\n      <td>589.0</td>\n      <td>1.000</td>\n      <td>1.000</td>\n      <td>13.0000</td>\n      <td>NaN</td>\n      <td>162</td>\n      <td>2326</td>\n      <td>14</td>\n      <td>16.0</td>\n    </tr>\n    <tr>\n      <th>290</th>\n      <td>5</td>\n      <td>15.0</td>\n      <td>-0.056685</td>\n      <td>1444.5</td>\n      <td>1.125</td>\n      <td>1.125</td>\n      <td>6.8125</td>\n      <td>NaN</td>\n      <td>118</td>\n      <td>2355</td>\n      <td>8</td>\n      <td>5.0</td>\n    </tr>\n    <tr>\n      <th>299</th>\n      <td>5</td>\n      <td>13.0</td>\n      <td>-0.106469</td>\n      <td>1150.0</td>\n      <td>1.000</td>\n      <td>1.000</td>\n      <td>0.0000</td>\n      <td>NaN</td>\n      <td>54</td>\n      <td>1629</td>\n      <td>1</td>\n      <td>10.0</td>\n    </tr>\n    <tr>\n      <th>308</th>\n      <td>12</td>\n      <td>19.0</td>\n      <td>-1.558446</td>\n      <td>118.0</td>\n      <td>1.000</td>\n      <td>1.000</td>\n      <td>8.0000</td>\n      <td>NaN</td>\n      <td>150</td>\n      <td>1899</td>\n      <td>9</td>\n      <td>12.0</td>\n    </tr>\n    <tr>\n      <th>313</th>\n      <td>7</td>\n      <td>3.0</td>\n      <td>-1.385588</td>\n      <td>621.0</td>\n      <td>1.000</td>\n      <td>1.000</td>\n      <td>4.0000</td>\n      <td>NaN</td>\n      <td>89</td>\n      <td>1429</td>\n      <td>5</td>\n      <td>13.0</td>\n    </tr>\n    <tr>\n      <th>321</th>\n      <td>6</td>\n      <td>20.0</td>\n      <td>-0.174664</td>\n      <td>458.0</td>\n      <td>1.000</td>\n      <td>1.000</td>\n      <td>5.0000</td>\n      <td>NaN</td>\n      <td>86</td>\n      <td>1379</td>\n      <td>6</td>\n      <td>24.0</td>\n    </tr>\n    <tr>\n      <th>331</th>\n      <td>5</td>\n      <td>18.0</td>\n      <td>-0.796707</td>\n      <td>1935.0</td>\n      <td>1.000</td>\n      <td>1.000</td>\n      <td>4.0000</td>\n      <td>NaN</td>\n      <td>85</td>\n      <td>1065</td>\n      <td>5</td>\n      <td>2.0</td>\n    </tr>\n    <tr>\n      <th>334</th>\n      <td>9</td>\n      <td>9.0</td>\n      <td>-1.112809</td>\n      <td>570.0</td>\n      <td>1.000</td>\n      <td>1.000</td>\n      <td>3.0000</td>\n      <td>NaN</td>\n      <td>84</td>\n      <td>2522</td>\n      <td>4</td>\n      <td>7.0</td>\n    </tr>\n    <tr>\n      <th>336</th>\n      <td>8</td>\n      <td>9.0</td>\n      <td>-0.199657</td>\n      <td>217.0</td>\n      <td>1.000</td>\n      <td>1.000</td>\n      <td>1.0000</td>\n      <td>NaN</td>\n      <td>86</td>\n      <td>575</td>\n      <td>2</td>\n      <td>32.0</td>\n    </tr>\n    <tr>\n      <th>355</th>\n      <td>11</td>\n      <td>10.0</td>\n      <td>-0.824070</td>\n      <td>395.0</td>\n      <td>1.000</td>\n      <td>1.000</td>\n      <td>0.0000</td>\n      <td>NaN</td>\n      <td>46</td>\n      <td>844</td>\n      <td>1</td>\n      <td>5.0</td>\n    </tr>\n    <tr>\n      <th>379</th>\n      <td>5</td>\n      <td>2.0</td>\n      <td>-0.414833</td>\n      <td>596.0</td>\n      <td>1.000</td>\n      <td>1.000</td>\n      <td>7.0000</td>\n      <td>NaN</td>\n      <td>105</td>\n      <td>1959</td>\n      <td>8</td>\n      <td>21.0</td>\n    </tr>\n    <tr>\n      <th>390</th>\n      <td>12</td>\n      <td>10.0</td>\n      <td>-0.706425</td>\n      <td>1267.0</td>\n      <td>1.000</td>\n      <td>1.000</td>\n      <td>0.0000</td>\n      <td>NaN</td>\n      <td>108</td>\n      <td>1900</td>\n      <td>1</td>\n      <td>1.0</td>\n    </tr>\n    <tr>\n      <th>393</th>\n      <td>9</td>\n      <td>5.0</td>\n      <td>-0.497538</td>\n      <td>949.0</td>\n      <td>1.000</td>\n      <td>1.000</td>\n      <td>5.0000</td>\n      <td>NaN</td>\n      <td>125</td>\n      <td>2187</td>\n      <td>6</td>\n      <td>1.0</td>\n    </tr>\n    <tr>\n      <th>397</th>\n      <td>7</td>\n      <td>2.0</td>\n      <td>-0.124345</td>\n      <td>468.0</td>\n      <td>1.000</td>\n      <td>1.000</td>\n      <td>4.0000</td>\n      <td>NaN</td>\n      <td>112</td>\n      <td>1223</td>\n      <td>5</td>\n      <td>19.0</td>\n    </tr>\n    <tr>\n      <th>399</th>\n      <td>13</td>\n      <td>5.0</td>\n      <td>-0.138085</td>\n      <td>1371.0</td>\n      <td>0.000</td>\n      <td>0.000</td>\n      <td>1.0000</td>\n      <td>NaN</td>\n      <td>48</td>\n      <td>1241</td>\n      <td>2</td>\n      <td>0.0</td>\n    </tr>\n    <tr>\n      <th>418</th>\n      <td>15</td>\n      <td>16.0</td>\n      <td>-1.247485</td>\n      <td>NaN</td>\n      <td>NaN</td>\n      <td>NaN</td>\n      <td>NaN</td>\n      <td>270.0</td>\n      <td>46</td>\n      <td>0</td>\n      <td>1</td>\n      <td>0.0</td>\n    </tr>\n    <tr>\n      <th>422</th>\n      <td>22</td>\n      <td>5.0</td>\n      <td>-1.045666</td>\n      <td>NaN</td>\n      <td>NaN</td>\n      <td>NaN</td>\n      <td>NaN</td>\n      <td>165.0</td>\n      <td>119</td>\n      <td>0</td>\n      <td>1</td>\n      <td>0.0</td>\n    </tr>\n    <tr>\n      <th>423</th>\n      <td>13</td>\n      <td>10.0</td>\n      <td>-2.090505</td>\n      <td>NaN</td>\n      <td>NaN</td>\n      <td>NaN</td>\n      <td>NaN</td>\n      <td>310.0</td>\n      <td>51</td>\n      <td>0</td>\n      <td>1</td>\n      <td>0.0</td>\n    </tr>\n    <tr>\n      <th>432</th>\n      <td>6</td>\n      <td>13.0</td>\n      <td>-0.233729</td>\n      <td>2145.0</td>\n      <td>0.000</td>\n      <td>0.000</td>\n      <td>2.0000</td>\n      <td>NaN</td>\n      <td>109</td>\n      <td>1097</td>\n      <td>3</td>\n      <td>0.0</td>\n    </tr>\n    <tr>\n      <th>433</th>\n      <td>5</td>\n      <td>16.0</td>\n      <td>-0.806385</td>\n      <td>2336.0</td>\n      <td>0.000</td>\n      <td>0.000</td>\n      <td>1.0000</td>\n      <td>NaN</td>\n      <td>59</td>\n      <td>3655</td>\n      <td>2</td>\n      <td>0.0</td>\n    </tr>\n    <tr>\n      <th>451</th>\n      <td>25</td>\n      <td>17.0</td>\n      <td>-0.317449</td>\n      <td>NaN</td>\n      <td>NaN</td>\n      <td>NaN</td>\n      <td>NaN</td>\n      <td>140.0</td>\n      <td>64</td>\n      <td>657</td>\n      <td>1</td>\n      <td>0.0</td>\n    </tr>\n    <tr>\n      <th>458</th>\n      <td>17</td>\n      <td>15.0</td>\n      <td>-2.090505</td>\n      <td>NaN</td>\n      <td>NaN</td>\n      <td>NaN</td>\n      <td>NaN</td>\n      <td>236.0</td>\n      <td>38</td>\n      <td>0</td>\n      <td>1</td>\n      <td>0.0</td>\n    </tr>\n    <tr>\n      <th>464</th>\n      <td>6</td>\n      <td>15.0</td>\n      <td>-0.796709</td>\n      <td>NaN</td>\n      <td>NaN</td>\n      <td>NaN</td>\n      <td>NaN</td>\n      <td>416.0</td>\n      <td>22</td>\n      <td>218</td>\n      <td>1</td>\n      <td>0.0</td>\n    </tr>\n  </tbody>\n</table>\n</div>"
     },
     "execution_count": 46,
     "metadata": {},
     "output_type": "execute_result"
    }
   ]
  },
  {
   "cell_type": "markdown",
   "metadata": {
    "id": "RsB9PRLUiC8D"
   },
   "source": [
    "Попробуем поработать с датасетом, где NaN значения заполнены нулями"
   ]
  },
  {
   "cell_type": "code",
   "metadata": {
    "id": "4155Rxz9fojN"
   },
   "source": [
    "data_zeros = data.fillna(0)"
   ],
   "execution_count": 47,
   "outputs": []
  },
  {
   "cell_type": "code",
   "metadata": {
    "colab": {
     "base_uri": "https://localhost:8080/"
    },
    "id": "ChKPYv6MhcbO",
    "outputId": "83931174-bad0-4759-9953-3af3b43896be"
   },
   "source": [
    "data_zeros.isnull().sum()"
   ],
   "execution_count": 48,
   "outputs": [
    {
     "data": {
      "text/plain": "recency                   0\ntopic_rank                0\ndiversity                 0\nauthors_mean_rank         0\nauthors_mean_hindex       0\nauthors_mean_gindex       0\nauthors_mean_sociality    0\njournal_rank              0\ntitle_len                 0\nabstract_len              0\nn_authors                 0\nc5                        0\ndtype: int64"
     },
     "execution_count": 48,
     "metadata": {},
     "output_type": "execute_result"
    }
   ]
  },
  {
   "cell_type": "markdown",
   "metadata": {
    "id": "uVl6C-IPi2D2"
   },
   "source": [
    "Так как все признаки лежат в разных диапазонах значений, не лишним будет нормализовать их"
   ]
  },
  {
   "cell_type": "code",
   "metadata": {
    "id": "mnacSBnPi-l3"
   },
   "source": [
    "from sklearn.preprocessing import StandardScaler"
   ],
   "execution_count": 49,
   "outputs": []
  },
  {
   "cell_type": "code",
   "metadata": {
    "id": "C0mmRKD7jUzd"
   },
   "source": [
    "scaler = StandardScaler()\n",
    "X = data_zeros.drop(columns='c5')\n",
    "y = data_zeros['c5']\n",
    "X = scaler.fit_transform(X)"
   ],
   "execution_count": 50,
   "outputs": []
  },
  {
   "cell_type": "markdown",
   "metadata": {
    "id": "hFOw3z0UiLTg"
   },
   "source": [
    "Разобьем наш датасет на обучающую и тестовую выборки"
   ]
  },
  {
   "cell_type": "markdown",
   "metadata": {
    "id": "PMNbCOcPoiBi"
   },
   "source": [
    "Чтобы зафиксировать разбиение и результат моделей, воспользуемся np.random.seed"
   ]
  },
  {
   "cell_type": "code",
   "metadata": {
    "id": "pveVDR-wounr"
   },
   "source": [
    "np.random.seed(21)"
   ],
   "execution_count": 51,
   "outputs": []
  },
  {
   "cell_type": "code",
   "metadata": {
    "id": "SHCywMcXiOuS"
   },
   "source": [
    "from sklearn.model_selection import train_test_split"
   ],
   "execution_count": 52,
   "outputs": []
  },
  {
   "cell_type": "code",
   "metadata": {
    "id": "nTeQBAn8iTGi"
   },
   "source": [
    "X_train, X_test, y_train, y_test = train_test_split(X,y)"
   ],
   "execution_count": 53,
   "outputs": []
  },
  {
   "cell_type": "markdown",
   "metadata": {
    "id": "HURULuaCkE8W"
   },
   "source": [
    "# Baselines (LinearRegression, RandomForestRegressor, GradientBoosting)"
   ]
  },
  {
   "cell_type": "code",
   "metadata": {
    "id": "KDeE5MZKkl_7"
   },
   "source": [
    "from sklearn.metrics import r2_score\n"
   ],
   "execution_count": 54,
   "outputs": []
  },
  {
   "cell_type": "markdown",
   "metadata": {
    "id": "IcPrTFLGkSgI"
   },
   "source": [
    "## LinearRegression"
   ]
  },
  {
   "cell_type": "code",
   "metadata": {
    "id": "mkx_R6lkkGZA"
   },
   "source": [
    "from sklearn.linear_model import LinearRegression"
   ],
   "execution_count": 55,
   "outputs": []
  },
  {
   "cell_type": "code",
   "metadata": {
    "colab": {
     "base_uri": "https://localhost:8080/"
    },
    "id": "SG8yxnsOkg9B",
    "outputId": "2efc583c-7271-491e-b1a7-73d6eb4c1037"
   },
   "source": [
    "model = LinearRegression()\n",
    "model.fit(X_train,y_train)"
   ],
   "execution_count": 56,
   "outputs": [
    {
     "data": {
      "text/plain": "LinearRegression()"
     },
     "execution_count": 56,
     "metadata": {},
     "output_type": "execute_result"
    }
   ]
  },
  {
   "cell_type": "code",
   "metadata": {
    "colab": {
     "base_uri": "https://localhost:8080/"
    },
    "id": "sd0Pdfsqkif4",
    "outputId": "b8ae4ae4-7c4b-4b8f-c0c2-c0ae3043a50e"
   },
   "source": [
    "r2_score(y_test,model.predict(X_test))"
   ],
   "execution_count": 57,
   "outputs": [
    {
     "data": {
      "text/plain": "0.48039830719833254"
     },
     "execution_count": 57,
     "metadata": {},
     "output_type": "execute_result"
    }
   ]
  },
  {
   "cell_type": "markdown",
   "metadata": {
    "id": "lCVV0jo0k6G5"
   },
   "source": [
    "## RandomForestRegressor"
   ]
  },
  {
   "cell_type": "code",
   "metadata": {
    "id": "fdBtmvz6k7eL"
   },
   "source": [
    "from sklearn.ensemble import RandomForestRegressor"
   ],
   "execution_count": 58,
   "outputs": []
  },
  {
   "cell_type": "code",
   "metadata": {
    "colab": {
     "base_uri": "https://localhost:8080/"
    },
    "id": "T8rfhDT_k_94",
    "outputId": "39d83563-c8e5-4e3a-98b6-2c541c17f3a7"
   },
   "source": [
    "model = RandomForestRegressor()\n",
    "model.fit(X_train,y_train)"
   ],
   "execution_count": 59,
   "outputs": [
    {
     "data": {
      "text/plain": "RandomForestRegressor()"
     },
     "execution_count": 59,
     "metadata": {},
     "output_type": "execute_result"
    }
   ]
  },
  {
   "cell_type": "code",
   "metadata": {
    "colab": {
     "base_uri": "https://localhost:8080/"
    },
    "id": "Lq_gL1lHlFYk",
    "outputId": "d581939e-cfaf-4113-c24b-bdb469fc1ab1"
   },
   "source": [
    "r2_score(y_test,model.predict(X_test))"
   ],
   "execution_count": 60,
   "outputs": [
    {
     "data": {
      "text/plain": "0.48548502012254646"
     },
     "execution_count": 60,
     "metadata": {},
     "output_type": "execute_result"
    }
   ]
  },
  {
   "cell_type": "markdown",
   "metadata": {
    "id": "Gu7mJZGVlpNi"
   },
   "source": [
    "## GradientBoosting"
   ]
  },
  {
   "cell_type": "code",
   "metadata": {
    "id": "Di9NnM6JluOZ"
   },
   "source": [
    "from sklearn.ensemble import GradientBoostingRegressor"
   ],
   "execution_count": 61,
   "outputs": []
  },
  {
   "cell_type": "code",
   "metadata": {
    "colab": {
     "base_uri": "https://localhost:8080/"
    },
    "id": "L7qdHsW-mLGw",
    "outputId": "179b6254-81de-4534-f182-78f148431c45"
   },
   "source": [
    "model = GradientBoostingRegressor()\n",
    "model.fit(X_train,y_train)"
   ],
   "execution_count": 62,
   "outputs": [
    {
     "data": {
      "text/plain": "GradientBoostingRegressor()"
     },
     "execution_count": 62,
     "metadata": {},
     "output_type": "execute_result"
    }
   ]
  },
  {
   "cell_type": "code",
   "metadata": {
    "colab": {
     "base_uri": "https://localhost:8080/"
    },
    "id": "bEK4_MV3mP58",
    "outputId": "f433039d-7024-48b9-b8dc-d08fbd0decee"
   },
   "source": [
    "r2_score(y_test,model.predict(X_test))"
   ],
   "execution_count": 63,
   "outputs": [
    {
     "data": {
      "text/plain": "0.6668230077909751"
     },
     "execution_count": 63,
     "metadata": {},
     "output_type": "execute_result"
    }
   ]
  },
  {
   "cell_type": "markdown",
   "metadata": {
    "id": "FFrkzCxIn8vE"
   },
   "source": [
    "Без настройки гиперпараметров из моделей лучше всего справился GradientBoostingRegressor, воспользуемся модулем sklearn GridSearchCV для нахождения лучших гиперпараметров для нашей модели"
   ]
  },
  {
   "cell_type": "code",
   "metadata": {
    "id": "JGlvEFr8oPvw"
   },
   "source": [
    "from sklearn.model_selection import GridSearchCV"
   ],
   "execution_count": 64,
   "outputs": []
  },
  {
   "cell_type": "code",
   "metadata": {
    "id": "izcoMHgDpZY7"
   },
   "source": [
    "parameters = {'loss': ('ls', 'lad', 'huber', 'quantile'),\n",
    "              'learning_rate': [0.1,0.07,0.05,0.04,0.03,0.02],\n",
    "              'n_estimators':[500,600,700,900]}"
   ],
   "execution_count": 65,
   "outputs": []
  },
  {
   "cell_type": "code",
   "metadata": {
    "id": "FlyKqQtjrj2W"
   },
   "source": [
    "clf = GridSearchCV(model,parameters,'r2')"
   ],
   "execution_count": 66,
   "outputs": [
    {
     "name": "stderr",
     "output_type": "stream",
     "text": [
      "C:\\Users\\vasya\\anaconda3\\envs\\pythonProject\\lib\\site-packages\\sklearn\\utils\\validation.py:70: FutureWarning: Pass scoring=r2 as keyword args. From version 1.0 (renaming of 0.25) passing these as positional arguments will result in an error\n",
      "  warnings.warn(f\"Pass {args_msg} as keyword args. From version \"\n"
     ]
    }
   ]
  },
  {
   "cell_type": "code",
   "metadata": {
    "colab": {
     "base_uri": "https://localhost:8080/"
    },
    "id": "Ld6YZXRMrpNT",
    "outputId": "cf58f4ed-a8d0-482c-8aa6-0f81c53562be"
   },
   "source": [
    "clf.fit(X_train,y_train)"
   ],
   "execution_count": 67,
   "outputs": [
    {
     "data": {
      "text/plain": "GridSearchCV(estimator=GradientBoostingRegressor(),\n             param_grid={'learning_rate': [0.1, 0.07, 0.05, 0.04, 0.03, 0.02],\n                         'loss': ('ls', 'lad', 'huber', 'quantile'),\n                         'n_estimators': [500, 600, 700, 900]},\n             scoring='r2')"
     },
     "execution_count": 67,
     "metadata": {},
     "output_type": "execute_result"
    }
   ]
  },
  {
   "cell_type": "code",
   "metadata": {
    "colab": {
     "base_uri": "https://localhost:8080/"
    },
    "id": "R9dQI1-1spU_",
    "outputId": "e96440d5-9d31-4916-954d-dda0c846359d"
   },
   "source": [
    "clf.best_params_"
   ],
   "execution_count": 68,
   "outputs": [
    {
     "data": {
      "text/plain": "{'learning_rate': 0.1, 'loss': 'lad', 'n_estimators': 900}"
     },
     "execution_count": 68,
     "metadata": {},
     "output_type": "execute_result"
    }
   ]
  },
  {
   "cell_type": "code",
   "metadata": {
    "colab": {
     "base_uri": "https://localhost:8080/"
    },
    "id": "PX-zLjRXrxZ6",
    "outputId": "831fd75c-521d-4df0-c155-16b28909a02a"
   },
   "source": [
    "r2_score(y_test,clf.predict(X_test))"
   ],
   "execution_count": 69,
   "outputs": [
    {
     "data": {
      "text/plain": "0.7700327598416694"
     },
     "execution_count": 69,
     "metadata": {},
     "output_type": "execute_result"
    }
   ]
  },
  {
   "cell_type": "markdown",
   "source": [
    "Осталось посмотреть на важнейшие признаки для нашей модели"
   ],
   "metadata": {
    "collapsed": false,
    "pycharm": {
     "name": "#%% md\n"
    }
   }
  },
  {
   "cell_type": "code",
   "metadata": {
    "id": "nLCNF11czQwY"
   },
   "source": [
    "feature_importance = clf.best_estimator_.feature_importances_\n",
    "sorted_idx = np.argsort(feature_importance)\n",
    "pos = np.arange(sorted_idx.shape[0]) + .5\n",
    "fig = plt.figure(figsize=(12, 6))\n",
    "plt.subplot(1, 2, 1)\n",
    "plt.barh(pos, feature_importance[sorted_idx], align='center')\n",
    "plt.yticks(pos, np.array(data.columns)[sorted_idx])\n",
    "plt.title('Feature Importance')\n"
   ],
   "execution_count": 70,
   "outputs": [
    {
     "data": {
      "text/plain": "Text(0.5, 1.0, 'Feature Importance')"
     },
     "execution_count": 70,
     "metadata": {},
     "output_type": "execute_result"
    },
    {
     "data": {
      "text/plain": "<Figure size 864x432 with 1 Axes>",
      "image/png": "[encoded data removed]"
     },
     "metadata": {
      "needs_background": "light"
     },
     "output_type": "display_data"
    }
   ]
  },
  {
   "cell_type": "markdown",
   "source": [
    "Видно, что наиболее важными признаками для модели являются: authors_mean_hindex и authors_mean_gindex.\n",
    "И это логически правильно, ведь h-index и g-index как раз служат метрикой продуктивности и цитируемости автора.\n",
    "\n"
   ],
   "metadata": {
    "collapsed": false,
    "pycharm": {
     "name": "#%% md\n"
    }
   }
  },
  {
   "cell_type": "markdown",
   "source": [
    "Мы работали с датасетом, где NaN значения были заполнены нулями, попробуем теперь использовать interpolate (метод, который использует интерполяцию для отсутствующих значений)"
   ],
   "metadata": {
    "collapsed": false,
    "pycharm": {
     "name": "#%% md\n"
    }
   }
  },
  {
   "cell_type": "code",
   "execution_count": 71,
   "outputs": [],
   "source": [
    "data_interpolated = data.interpolate('cubicspline')"
   ],
   "metadata": {
    "collapsed": false,
    "pycharm": {
     "name": "#%%\n"
    }
   }
  },
  {
   "cell_type": "code",
   "execution_count": 72,
   "outputs": [
    {
     "data": {
      "text/plain": "recency                   0\ntopic_rank                0\ndiversity                 0\nauthors_mean_rank         0\nauthors_mean_hindex       0\nauthors_mean_gindex       0\nauthors_mean_sociality    0\njournal_rank              0\ntitle_len                 0\nabstract_len              0\nn_authors                 0\nc5                        0\ndtype: int64"
     },
     "execution_count": 72,
     "metadata": {},
     "output_type": "execute_result"
    }
   ],
   "source": [
    "data_interpolated.isnull().sum()"
   ],
   "metadata": {
    "collapsed": false,
    "pycharm": {
     "name": "#%%\n"
    }
   }
  },
  {
   "cell_type": "markdown",
   "source": [
    "И повторим те же действия, что и предыдущим датасетом (нормализуем и разобьем на две выборки)\n"
   ],
   "metadata": {
    "collapsed": false,
    "pycharm": {
     "name": "#%% md\n"
    }
   }
  },
  {
   "cell_type": "code",
   "execution_count": 73,
   "outputs": [],
   "source": [
    "scaler = StandardScaler()\n",
    "y = data_interpolated['c5']\n",
    "X = data_interpolated.drop(columns='c5')\n",
    "X = scaler.fit_transform(X)"
   ],
   "metadata": {
    "collapsed": false,
    "pycharm": {
     "name": "#%%\n"
    }
   }
  },
  {
   "cell_type": "code",
   "execution_count": 74,
   "outputs": [],
   "source": [
    "X_train, X_test, y_train, y_test = train_test_split(X,y)"
   ],
   "metadata": {
    "collapsed": false,
    "pycharm": {
     "name": "#%%\n"
    }
   }
  },
  {
   "cell_type": "code",
   "execution_count": 75,
   "outputs": [
    {
     "data": {
      "text/plain": "GridSearchCV(estimator=GradientBoostingRegressor(),\n             param_grid={'learning_rate': [0.1, 0.07, 0.05, 0.04, 0.03, 0.02],\n                         'loss': ('ls', 'lad', 'huber', 'quantile'),\n                         'n_estimators': [500, 600, 700, 900]},\n             scoring='r2')"
     },
     "execution_count": 75,
     "metadata": {},
     "output_type": "execute_result"
    }
   ],
   "source": [
    "clf.fit(X_train, y_train)"
   ],
   "metadata": {
    "collapsed": false,
    "pycharm": {
     "name": "#%%\n"
    }
   }
  },
  {
   "cell_type": "code",
   "execution_count": 76,
   "outputs": [
    {
     "data": {
      "text/plain": "0.6938283777637873"
     },
     "execution_count": 76,
     "metadata": {},
     "output_type": "execute_result"
    }
   ],
   "source": [
    "r2_score(y_test,clf.predict(X_test))\n"
   ],
   "metadata": {
    "collapsed": false,
    "pycharm": {
     "name": "#%%\n"
    }
   }
  },
  {
   "cell_type": "markdown",
   "source": [
    "К сожалению, качество модели улучшить не получилось.\n",
    "\n"
   ],
   "metadata": {
    "collapsed": false,
    "pycharm": {
     "name": "#%% md\n"
    }
   }
  }
 ]
}